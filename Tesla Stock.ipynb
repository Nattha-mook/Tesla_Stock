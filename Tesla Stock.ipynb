{
 "cells": [
  {
   "attachments": {},
   "cell_type": "markdown",
   "metadata": {},
   "source": [
    "Import Statement"
   ]
  },
  {
   "cell_type": "code",
   "execution_count": 323,
   "metadata": {},
   "outputs": [],
   "source": [
    "import pandas as pd\n",
    "import matplotlib.pyplot as plt\n",
    "from datetime import datetime"
   ]
  },
  {
   "attachments": {},
   "cell_type": "markdown",
   "metadata": {},
   "source": [
    "Data Exploration"
   ]
  },
  {
   "cell_type": "code",
   "execution_count": 324,
   "metadata": {},
   "outputs": [
    {
     "data": {
      "text/html": [
       "<div>\n",
       "<style scoped>\n",
       "    .dataframe tbody tr th:only-of-type {\n",
       "        vertical-align: middle;\n",
       "    }\n",
       "\n",
       "    .dataframe tbody tr th {\n",
       "        vertical-align: top;\n",
       "    }\n",
       "\n",
       "    .dataframe thead th {\n",
       "        text-align: right;\n",
       "    }\n",
       "</style>\n",
       "<table border=\"1\" class=\"dataframe\">\n",
       "  <thead>\n",
       "    <tr style=\"text-align: right;\">\n",
       "      <th></th>\n",
       "      <th>Date</th>\n",
       "      <th>Open</th>\n",
       "      <th>High</th>\n",
       "      <th>Low</th>\n",
       "      <th>Close</th>\n",
       "      <th>Adj Close</th>\n",
       "      <th>Volume</th>\n",
       "    </tr>\n",
       "  </thead>\n",
       "  <tbody>\n",
       "    <tr>\n",
       "      <th>0</th>\n",
       "      <td>22/6/2022</td>\n",
       "      <td>234.503326</td>\n",
       "      <td>246.833328</td>\n",
       "      <td>233.826660</td>\n",
       "      <td>236.086670</td>\n",
       "      <td>236.086670</td>\n",
       "      <td>101107500</td>\n",
       "    </tr>\n",
       "    <tr>\n",
       "      <th>1</th>\n",
       "      <td>23/6/2022</td>\n",
       "      <td>237.906662</td>\n",
       "      <td>239.316666</td>\n",
       "      <td>228.636673</td>\n",
       "      <td>235.070007</td>\n",
       "      <td>235.070007</td>\n",
       "      <td>104202600</td>\n",
       "    </tr>\n",
       "    <tr>\n",
       "      <th>2</th>\n",
       "      <td>24/6/2022</td>\n",
       "      <td>237.470001</td>\n",
       "      <td>246.066666</td>\n",
       "      <td>236.086670</td>\n",
       "      <td>245.706665</td>\n",
       "      <td>245.706665</td>\n",
       "      <td>95770800</td>\n",
       "    </tr>\n",
       "    <tr>\n",
       "      <th>3</th>\n",
       "      <td>27/6/2022</td>\n",
       "      <td>249.366669</td>\n",
       "      <td>252.070007</td>\n",
       "      <td>242.566666</td>\n",
       "      <td>244.919998</td>\n",
       "      <td>244.919998</td>\n",
       "      <td>89178300</td>\n",
       "    </tr>\n",
       "    <tr>\n",
       "      <th>4</th>\n",
       "      <td>28/6/2022</td>\n",
       "      <td>244.483337</td>\n",
       "      <td>249.970001</td>\n",
       "      <td>232.343338</td>\n",
       "      <td>232.663330</td>\n",
       "      <td>232.663330</td>\n",
       "      <td>90391200</td>\n",
       "    </tr>\n",
       "  </tbody>\n",
       "</table>\n",
       "</div>"
      ],
      "text/plain": [
       "        Date        Open        High         Low       Close   Adj Close  \\\n",
       "0  22/6/2022  234.503326  246.833328  233.826660  236.086670  236.086670   \n",
       "1  23/6/2022  237.906662  239.316666  228.636673  235.070007  235.070007   \n",
       "2  24/6/2022  237.470001  246.066666  236.086670  245.706665  245.706665   \n",
       "3  27/6/2022  249.366669  252.070007  242.566666  244.919998  244.919998   \n",
       "4  28/6/2022  244.483337  249.970001  232.343338  232.663330  232.663330   \n",
       "\n",
       "      Volume  \n",
       "0  101107500  \n",
       "1  104202600  \n",
       "2   95770800  \n",
       "3   89178300  \n",
       "4   90391200  "
      ]
     },
     "execution_count": 324,
     "metadata": {},
     "output_type": "execute_result"
    }
   ],
   "source": [
    "tesla = pd.read_csv('Tesla/TSLA Testing.csv')\n",
    "tesla.head()"
   ]
  },
  {
   "cell_type": "code",
   "execution_count": 325,
   "metadata": {},
   "outputs": [
    {
     "data": {
      "text/html": [
       "<div>\n",
       "<style scoped>\n",
       "    .dataframe tbody tr th:only-of-type {\n",
       "        vertical-align: middle;\n",
       "    }\n",
       "\n",
       "    .dataframe tbody tr th {\n",
       "        vertical-align: top;\n",
       "    }\n",
       "\n",
       "    .dataframe thead th {\n",
       "        text-align: right;\n",
       "    }\n",
       "</style>\n",
       "<table border=\"1\" class=\"dataframe\">\n",
       "  <thead>\n",
       "    <tr style=\"text-align: right;\">\n",
       "      <th></th>\n",
       "      <th>Date</th>\n",
       "      <th>Open</th>\n",
       "      <th>High</th>\n",
       "      <th>Low</th>\n",
       "      <th>Close</th>\n",
       "      <th>Adj Close</th>\n",
       "      <th>Volume</th>\n",
       "    </tr>\n",
       "  </thead>\n",
       "  <tbody>\n",
       "    <tr>\n",
       "      <th>246</th>\n",
       "      <td>14/6/2023</td>\n",
       "      <td>260.170013</td>\n",
       "      <td>261.570007</td>\n",
       "      <td>250.500000</td>\n",
       "      <td>256.790009</td>\n",
       "      <td>256.790009</td>\n",
       "      <td>170575500</td>\n",
       "    </tr>\n",
       "    <tr>\n",
       "      <th>247</th>\n",
       "      <td>15/6/2023</td>\n",
       "      <td>248.399994</td>\n",
       "      <td>258.950012</td>\n",
       "      <td>247.289993</td>\n",
       "      <td>255.899994</td>\n",
       "      <td>255.899994</td>\n",
       "      <td>160171200</td>\n",
       "    </tr>\n",
       "    <tr>\n",
       "      <th>248</th>\n",
       "      <td>16/6/2023</td>\n",
       "      <td>258.920013</td>\n",
       "      <td>263.600006</td>\n",
       "      <td>257.209991</td>\n",
       "      <td>260.540009</td>\n",
       "      <td>260.540009</td>\n",
       "      <td>167563700</td>\n",
       "    </tr>\n",
       "    <tr>\n",
       "      <th>249</th>\n",
       "      <td>20/6/2023</td>\n",
       "      <td>261.500000</td>\n",
       "      <td>274.750000</td>\n",
       "      <td>261.119995</td>\n",
       "      <td>274.450012</td>\n",
       "      <td>274.450012</td>\n",
       "      <td>165611200</td>\n",
       "    </tr>\n",
       "    <tr>\n",
       "      <th>250</th>\n",
       "      <td>21/6/2023</td>\n",
       "      <td>275.130005</td>\n",
       "      <td>276.989990</td>\n",
       "      <td>257.779999</td>\n",
       "      <td>259.459991</td>\n",
       "      <td>259.459991</td>\n",
       "      <td>210937500</td>\n",
       "    </tr>\n",
       "  </tbody>\n",
       "</table>\n",
       "</div>"
      ],
      "text/plain": [
       "          Date        Open        High         Low       Close   Adj Close  \\\n",
       "246  14/6/2023  260.170013  261.570007  250.500000  256.790009  256.790009   \n",
       "247  15/6/2023  248.399994  258.950012  247.289993  255.899994  255.899994   \n",
       "248  16/6/2023  258.920013  263.600006  257.209991  260.540009  260.540009   \n",
       "249  20/6/2023  261.500000  274.750000  261.119995  274.450012  274.450012   \n",
       "250  21/6/2023  275.130005  276.989990  257.779999  259.459991  259.459991   \n",
       "\n",
       "        Volume  \n",
       "246  170575500  \n",
       "247  160171200  \n",
       "248  167563700  \n",
       "249  165611200  \n",
       "250  210937500  "
      ]
     },
     "execution_count": 325,
     "metadata": {},
     "output_type": "execute_result"
    }
   ],
   "source": [
    "tesla.tail()"
   ]
  },
  {
   "cell_type": "code",
   "execution_count": 326,
   "metadata": {},
   "outputs": [
    {
     "data": {
      "text/plain": [
       "(251, 7)"
      ]
     },
     "execution_count": 326,
     "metadata": {},
     "output_type": "execute_result"
    }
   ],
   "source": [
    "tesla.shape"
   ]
  },
  {
   "cell_type": "code",
   "execution_count": 327,
   "metadata": {},
   "outputs": [
    {
     "name": "stdout",
     "output_type": "stream",
     "text": [
      "<class 'pandas.core.frame.DataFrame'>\n",
      "RangeIndex: 251 entries, 0 to 250\n",
      "Data columns (total 7 columns):\n",
      " #   Column     Non-Null Count  Dtype  \n",
      "---  ------     --------------  -----  \n",
      " 0   Date       251 non-null    object \n",
      " 1   Open       251 non-null    float64\n",
      " 2   High       251 non-null    float64\n",
      " 3   Low        251 non-null    float64\n",
      " 4   Close      251 non-null    float64\n",
      " 5   Adj Close  251 non-null    float64\n",
      " 6   Volume     251 non-null    int64  \n",
      "dtypes: float64(5), int64(1), object(1)\n",
      "memory usage: 13.9+ KB\n"
     ]
    }
   ],
   "source": [
    "tesla.info()"
   ]
  },
  {
   "cell_type": "code",
   "execution_count": 328,
   "metadata": {},
   "outputs": [
    {
     "data": {
      "text/html": [
       "<div>\n",
       "<style scoped>\n",
       "    .dataframe tbody tr th:only-of-type {\n",
       "        vertical-align: middle;\n",
       "    }\n",
       "\n",
       "    .dataframe tbody tr th {\n",
       "        vertical-align: top;\n",
       "    }\n",
       "\n",
       "    .dataframe thead th {\n",
       "        text-align: right;\n",
       "    }\n",
       "</style>\n",
       "<table border=\"1\" class=\"dataframe\">\n",
       "  <thead>\n",
       "    <tr style=\"text-align: right;\">\n",
       "      <th></th>\n",
       "      <th>Open</th>\n",
       "      <th>High</th>\n",
       "      <th>Low</th>\n",
       "      <th>Close</th>\n",
       "      <th>Adj Close</th>\n",
       "      <th>Volume</th>\n",
       "    </tr>\n",
       "  </thead>\n",
       "  <tbody>\n",
       "    <tr>\n",
       "      <th>count</th>\n",
       "      <td>251.000000</td>\n",
       "      <td>251.000000</td>\n",
       "      <td>251.000000</td>\n",
       "      <td>251.000000</td>\n",
       "      <td>251.000000</td>\n",
       "      <td>2.510000e+02</td>\n",
       "    </tr>\n",
       "    <tr>\n",
       "      <th>mean</th>\n",
       "      <td>210.688220</td>\n",
       "      <td>215.466162</td>\n",
       "      <td>205.595405</td>\n",
       "      <td>210.655936</td>\n",
       "      <td>210.655936</td>\n",
       "      <td>1.208421e+08</td>\n",
       "    </tr>\n",
       "    <tr>\n",
       "      <th>std</th>\n",
       "      <td>51.496805</td>\n",
       "      <td>52.164593</td>\n",
       "      <td>50.789028</td>\n",
       "      <td>51.421134</td>\n",
       "      <td>51.421134</td>\n",
       "      <td>4.971209e+07</td>\n",
       "    </tr>\n",
       "    <tr>\n",
       "      <th>min</th>\n",
       "      <td>103.000000</td>\n",
       "      <td>111.750000</td>\n",
       "      <td>101.809998</td>\n",
       "      <td>108.099998</td>\n",
       "      <td>108.099998</td>\n",
       "      <td>4.186470e+07</td>\n",
       "    </tr>\n",
       "    <tr>\n",
       "      <th>25%</th>\n",
       "      <td>176.635002</td>\n",
       "      <td>182.419998</td>\n",
       "      <td>172.504998</td>\n",
       "      <td>178.474998</td>\n",
       "      <td>178.474998</td>\n",
       "      <td>8.141040e+07</td>\n",
       "    </tr>\n",
       "    <tr>\n",
       "      <th>50%</th>\n",
       "      <td>198.539993</td>\n",
       "      <td>203.000000</td>\n",
       "      <td>192.889999</td>\n",
       "      <td>197.580002</td>\n",
       "      <td>197.580002</td>\n",
       "      <td>1.102522e+08</td>\n",
       "    </tr>\n",
       "    <tr>\n",
       "      <th>75%</th>\n",
       "      <td>247.361671</td>\n",
       "      <td>251.520004</td>\n",
       "      <td>241.084999</td>\n",
       "      <td>245.224998</td>\n",
       "      <td>245.224998</td>\n",
       "      <td>1.569024e+08</td>\n",
       "    </tr>\n",
       "    <tr>\n",
       "      <th>max</th>\n",
       "      <td>311.666656</td>\n",
       "      <td>314.666656</td>\n",
       "      <td>305.579987</td>\n",
       "      <td>309.320007</td>\n",
       "      <td>309.320007</td>\n",
       "      <td>3.065906e+08</td>\n",
       "    </tr>\n",
       "  </tbody>\n",
       "</table>\n",
       "</div>"
      ],
      "text/plain": [
       "             Open        High         Low       Close   Adj Close  \\\n",
       "count  251.000000  251.000000  251.000000  251.000000  251.000000   \n",
       "mean   210.688220  215.466162  205.595405  210.655936  210.655936   \n",
       "std     51.496805   52.164593   50.789028   51.421134   51.421134   \n",
       "min    103.000000  111.750000  101.809998  108.099998  108.099998   \n",
       "25%    176.635002  182.419998  172.504998  178.474998  178.474998   \n",
       "50%    198.539993  203.000000  192.889999  197.580002  197.580002   \n",
       "75%    247.361671  251.520004  241.084999  245.224998  245.224998   \n",
       "max    311.666656  314.666656  305.579987  309.320007  309.320007   \n",
       "\n",
       "             Volume  \n",
       "count  2.510000e+02  \n",
       "mean   1.208421e+08  \n",
       "std    4.971209e+07  \n",
       "min    4.186470e+07  \n",
       "25%    8.141040e+07  \n",
       "50%    1.102522e+08  \n",
       "75%    1.569024e+08  \n",
       "max    3.065906e+08  "
      ]
     },
     "execution_count": 328,
     "metadata": {},
     "output_type": "execute_result"
    }
   ],
   "source": [
    "tesla.describe()"
   ]
  },
  {
   "attachments": {},
   "cell_type": "markdown",
   "metadata": {},
   "source": [
    "Check data type in each column"
   ]
  },
  {
   "cell_type": "code",
   "execution_count": 329,
   "metadata": {},
   "outputs": [
    {
     "data": {
      "text/plain": [
       "Date          object\n",
       "Open         float64\n",
       "High         float64\n",
       "Low          float64\n",
       "Close        float64\n",
       "Adj Close    float64\n",
       "Volume         int64\n",
       "dtype: object"
      ]
     },
     "execution_count": 329,
     "metadata": {},
     "output_type": "execute_result"
    }
   ],
   "source": [
    "tesla.dtypes"
   ]
  },
  {
   "attachments": {},
   "cell_type": "markdown",
   "metadata": {},
   "source": [
    "Change Date column type from object to datetime"
   ]
  },
  {
   "cell_type": "code",
   "execution_count": 330,
   "metadata": {},
   "outputs": [
    {
     "name": "stderr",
     "output_type": "stream",
     "text": [
      "C:\\Users\\natth\\AppData\\Local\\Temp\\ipykernel_23352\\2693315006.py:1: UserWarning: Parsing dates in DD/MM/YYYY format when dayfirst=False (the default) was specified. This may lead to inconsistently parsed dates! Specify a format to ensure consistent parsing.\n",
      "  tesla['Date'] = pd.to_datetime(tesla.Date)\n"
     ]
    }
   ],
   "source": [
    "tesla['Date'] = pd.to_datetime(tesla.Date)"
   ]
  },
  {
   "attachments": {},
   "cell_type": "markdown",
   "metadata": {},
   "source": [
    "Calculate % stock return from daily closing price "
   ]
  },
  {
   "cell_type": "code",
   "execution_count": 331,
   "metadata": {},
   "outputs": [
    {
     "data": {
      "text/html": [
       "<div>\n",
       "<style scoped>\n",
       "    .dataframe tbody tr th:only-of-type {\n",
       "        vertical-align: middle;\n",
       "    }\n",
       "\n",
       "    .dataframe tbody tr th {\n",
       "        vertical-align: top;\n",
       "    }\n",
       "\n",
       "    .dataframe thead th {\n",
       "        text-align: right;\n",
       "    }\n",
       "</style>\n",
       "<table border=\"1\" class=\"dataframe\">\n",
       "  <thead>\n",
       "    <tr style=\"text-align: right;\">\n",
       "      <th></th>\n",
       "      <th>Date</th>\n",
       "      <th>Open</th>\n",
       "      <th>High</th>\n",
       "      <th>Low</th>\n",
       "      <th>Close</th>\n",
       "      <th>Adj Close</th>\n",
       "      <th>Volume</th>\n",
       "      <th>Return</th>\n",
       "    </tr>\n",
       "  </thead>\n",
       "  <tbody>\n",
       "    <tr>\n",
       "      <th>0</th>\n",
       "      <td>2022-06-22</td>\n",
       "      <td>234.503326</td>\n",
       "      <td>246.833328</td>\n",
       "      <td>233.826660</td>\n",
       "      <td>236.086670</td>\n",
       "      <td>236.086670</td>\n",
       "      <td>101107500</td>\n",
       "      <td>NaN</td>\n",
       "    </tr>\n",
       "    <tr>\n",
       "      <th>1</th>\n",
       "      <td>2022-06-23</td>\n",
       "      <td>237.906662</td>\n",
       "      <td>239.316666</td>\n",
       "      <td>228.636673</td>\n",
       "      <td>235.070007</td>\n",
       "      <td>235.070007</td>\n",
       "      <td>104202600</td>\n",
       "      <td>-0.004306</td>\n",
       "    </tr>\n",
       "    <tr>\n",
       "      <th>2</th>\n",
       "      <td>2022-06-24</td>\n",
       "      <td>237.470001</td>\n",
       "      <td>246.066666</td>\n",
       "      <td>236.086670</td>\n",
       "      <td>245.706665</td>\n",
       "      <td>245.706665</td>\n",
       "      <td>95770800</td>\n",
       "      <td>0.045249</td>\n",
       "    </tr>\n",
       "    <tr>\n",
       "      <th>3</th>\n",
       "      <td>2022-06-27</td>\n",
       "      <td>249.366669</td>\n",
       "      <td>252.070007</td>\n",
       "      <td>242.566666</td>\n",
       "      <td>244.919998</td>\n",
       "      <td>244.919998</td>\n",
       "      <td>89178300</td>\n",
       "      <td>-0.003202</td>\n",
       "    </tr>\n",
       "    <tr>\n",
       "      <th>4</th>\n",
       "      <td>2022-06-28</td>\n",
       "      <td>244.483337</td>\n",
       "      <td>249.970001</td>\n",
       "      <td>232.343338</td>\n",
       "      <td>232.663330</td>\n",
       "      <td>232.663330</td>\n",
       "      <td>90391200</td>\n",
       "      <td>-0.050044</td>\n",
       "    </tr>\n",
       "  </tbody>\n",
       "</table>\n",
       "</div>"
      ],
      "text/plain": [
       "        Date        Open        High         Low       Close   Adj Close  \\\n",
       "0 2022-06-22  234.503326  246.833328  233.826660  236.086670  236.086670   \n",
       "1 2022-06-23  237.906662  239.316666  228.636673  235.070007  235.070007   \n",
       "2 2022-06-24  237.470001  246.066666  236.086670  245.706665  245.706665   \n",
       "3 2022-06-27  249.366669  252.070007  242.566666  244.919998  244.919998   \n",
       "4 2022-06-28  244.483337  249.970001  232.343338  232.663330  232.663330   \n",
       "\n",
       "      Volume    Return  \n",
       "0  101107500       NaN  \n",
       "1  104202600 -0.004306  \n",
       "2   95770800  0.045249  \n",
       "3   89178300 -0.003202  \n",
       "4   90391200 -0.050044  "
      ]
     },
     "execution_count": 331,
     "metadata": {},
     "output_type": "execute_result"
    }
   ],
   "source": [
    "pct_return = tesla['Close'].pct_change()\n",
    "tesla.insert(7,\"Return\",pct_return)\n",
    "tesla.head()"
   ]
  },
  {
   "cell_type": "code",
   "execution_count": 332,
   "metadata": {},
   "outputs": [
    {
     "data": {
      "text/plain": [
       "0      0.000000\n",
       "1     -0.004306\n",
       "2      0.045249\n",
       "3     -0.003202\n",
       "4     -0.050044\n",
       "         ...   \n",
       "246   -0.007421\n",
       "247   -0.003466\n",
       "248    0.018132\n",
       "249    0.053389\n",
       "250   -0.054618\n",
       "Name: Return, Length: 251, dtype: float64"
      ]
     },
     "execution_count": 332,
     "metadata": {},
     "output_type": "execute_result"
    }
   ],
   "source": [
    "tesla['Return'].fillna(0)\n"
   ]
  },
  {
   "cell_type": "code",
   "execution_count": 341,
   "metadata": {},
   "outputs": [
    {
     "data": {
      "image/png": "[encoded data removed]",
      "text/plain": [
       "<Figure size 640x480 with 1 Axes>"
      ]
     },
     "metadata": {},
     "output_type": "display_data"
    }
   ],
   "source": [
    "# Sort the DataFrame by Month and Year\n",
    "tesla = tesla.sort_values(by=['Date'])\n",
    "\n",
    "# Plotting date vs the close market stock price\n",
    "tesla.plot('Date','Close',color=\"red\")\n",
    "\n",
    "plt.ylabel('Close Price')\n",
    "plt.title('Close Market Stock Price')\n",
    "\n",
    "plt.show()"
   ]
  },
  {
   "cell_type": "code",
   "execution_count": 340,
   "metadata": {},
   "outputs": [
    {
     "data": {
      "image/png": "[encoded data removed]",
      "text/plain": [
       "<Figure size 640x480 with 1 Axes>"
      ]
     },
     "metadata": {},
     "output_type": "display_data"
    }
   ],
   "source": [
    "# Plotting month-year vs the stock return percentage\n",
    "tesla = tesla.sort_values(by=['Date'])\n",
    "tesla.plot('Date','Return',color=\"Blue\")\n",
    "plt.ylabel('% Return')\n",
    "plt.title('Stock Return Rate')\n",
    "plt.show()"
   ]
  }
 ],
 "metadata": {
  "kernelspec": {
   "display_name": "Python 3",
   "language": "python",
   "name": "python3"
  },
  "language_info": {
   "codemirror_mode": {
    "name": "ipython",
    "version": 3
   },
   "file_extension": ".py",
   "mimetype": "text/x-python",
   "name": "python",
   "nbconvert_exporter": "python",
   "pygments_lexer": "ipython3",
   "version": "3.11.0"
  },
  "orig_nbformat": 4
 },
 "nbformat": 4,
 "nbformat_minor": 2
}
